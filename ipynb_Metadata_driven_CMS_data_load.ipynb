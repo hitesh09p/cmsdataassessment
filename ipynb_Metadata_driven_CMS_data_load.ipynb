{
 "cells": [
  {
   "cell_type": "code",
   "execution_count": 0,
   "metadata": {
    "application/vnd.databricks.v1+cell": {
     "cellMetadata": {
      "byteLimit": 2048000,
      "rowLimit": 10000
     },
     "inputWidgets": {},
     "nuid": "6e3f3197-5b38-427c-a8c7-030f019153d8",
     "showTitle": true,
     "tableResultSettingsMap": {},
     "title": "Imports"
    }
   },
   "outputs": [
    {
     "output_type": "display_data",
     "data": {
      "application/vnd.databricks.v1+bamboolib_hint": "{\"pd.DataFrames\": [], \"version\": \"0.0.1\"}",
      "text/plain": []
     },
     "metadata": {},
     "output_type": "display_data"
    }
   ],
   "source": [
    "import os\n",
    "import requests\n",
    "import pandas as pd\n",
    "import re\n",
    "import smtplib\n",
    "import json\n",
    "import sys\n",
    "from concurrent.futures import ThreadPoolExecutor\n",
    "from datetime import datetime"
   ]
  },
  {
   "cell_type": "code",
   "execution_count": 0,
   "metadata": {
    "application/vnd.databricks.v1+cell": {
     "cellMetadata": {
      "byteLimit": 2048000,
      "implicitDf": true,
      "rowLimit": 10000
     },
     "inputWidgets": {},
     "nuid": "98af18b0-e96a-45c6-9304-45bbf7a67b21",
     "showTitle": true,
     "tableResultSettingsMap": {},
     "title": "Metadata table for csv files"
    }
   },
   "outputs": [
    {
     "output_type": "display_data",
     "data": {
      "text/html": [
       "<style scoped>\n",
       "  .table-result-container {\n",
       "    max-height: 300px;\n",
       "    overflow: auto;\n",
       "  }\n",
       "  table, th, td {\n",
       "    border: 1px solid black;\n",
       "    border-collapse: collapse;\n",
       "  }\n",
       "  th, td {\n",
       "    padding: 5px;\n",
       "  }\n",
       "  th {\n",
       "    text-align: left;\n",
       "  }\n",
       "</style><div class='table-result-container'><table class='table-result'><thead style='background-color: white'><tr></tr></thead><tbody></tbody></table></div>"
      ]
     },
     "metadata": {
      "application/vnd.databricks.v1+output": {
       "addedWidgets": {},
       "aggData": [],
       "aggError": "",
       "aggOverflow": false,
       "aggSchema": [],
       "aggSeriesLimitReached": false,
       "aggType": "",
       "arguments": {},
       "columnCustomDisplayInfos": {},
       "data": [],
       "datasetInfos": [],
       "dbfsResultPath": null,
       "isJsonSchema": true,
       "metadata": {},
       "overflow": false,
       "plotOptions": {
        "customPlotOptions": {},
        "displayType": "table",
        "pivotAggregation": null,
        "pivotColumns": null,
        "xColumns": null,
        "yColumns": null
       },
       "removedWidgets": [],
       "schema": [],
       "type": "table"
      }
     },
     "output_type": "display_data"
    }
   ],
   "source": [
    "%sql\n",
    "CREATE TABLE IF NOT EXISTS default.job_log (\n",
    "    file_name STRING NOT NULL,\n",
    "    url STRING NOT NULL,\n",
    "    download_timestamp timestamp NOT NULL,\n",
    "    Modified_date date NOT NULL\n",
    ")"
   ]
  },
  {
   "cell_type": "code",
   "execution_count": 0,
   "metadata": {
    "application/vnd.databricks.v1+cell": {
     "cellMetadata": {
      "byteLimit": 2048000,
      "rowLimit": 10000
     },
     "inputWidgets": {},
     "nuid": "09682274-f841-4c53-bab7-618d5d0601eb",
     "showTitle": false,
     "tableResultSettingsMap": {},
     "title": ""
    }
   },
   "outputs": [],
   "source": [
    "# Configuration\n",
    "API_URL = \"https://data.cms.gov/provider-data/api/1/metastore/schemas/dataset/items\"\n",
    "DATA_DIR = \"data/\""
   ]
  },
  {
   "cell_type": "code",
   "execution_count": 0,
   "metadata": {
    "application/vnd.databricks.v1+cell": {
     "cellMetadata": {
      "byteLimit": 2048000,
      "rowLimit": 10000
     },
     "inputWidgets": {},
     "nuid": "591f6bc0-b687-4548-8885-74e05cc57549",
     "showTitle": true,
     "tableResultSettingsMap": {},
     "title": "Common Functions"
    }
   },
   "outputs": [],
   "source": [
    "# Load metadata to track run history and modified timestamps\n",
    "def read_metadata():\n",
    "    metadata_df = spark.sql(\"select * from default.job_log\")\n",
    "    return metadata_df\n",
    "\n",
    "# Fetch datasets related to 'Hospitals'\n",
    "def fetch_datasets():\n",
    "    response = requests.get(API_URL)\n",
    "    response.raise_for_status()  # Ensure we got a successful response\n",
    "    data = response.json()\n",
    "    filtered_data = [item for item in data if item.get('theme')[0] == 'Hospitals']\n",
    "    return filtered_data\n",
    "\n",
    "# Convert column names to snake_case\n",
    "def to_snake_case(column_name):\n",
    "    # Replace special characters with space\n",
    "    column_name = re.sub(r\"[^\\w\\s]\", \" \", column_name)\n",
    "    # Replace spaces or multiple underscores with a single underscore\n",
    "    column_name = re.sub(r\"\\s+\", \"_\", column_name)\n",
    "    # Convert to lowercase\n",
    "    column_name = column_name.lower()\n",
    "    return column_name.strip(\"_\")\n",
    "   \n",
    "# # write metadata to track run history and modified timestamps\n",
    "def insert_metadata(csv_filename, csv_url, last_modified, table_name=\"job_log\"):\n",
    "    \"\"\"\n",
    "    Insert metadata such as csv_filename, csv_url, download_timestamp, and last_modified into a specified table.\n",
    "    Args:\n",
    "    - csv_filename: Name of the CSV file.\n",
    "    - csv_url: URL to the CSV file.\n",
    "    - last_modified: Last modified date of the file.\n",
    "    - table_name: The name of the table where data will be inserted (default is \"your_table_name\").\n",
    "    \"\"\"\n",
    "    # Get current timestamp for download timestamp\n",
    "    download_timestamp = datetime.now().strftime('%Y-%m-%d %H:%M:%S')\n",
    "\n",
    "    # Construct the dynamic SQL query\n",
    "    insert_query = f\"\"\"\n",
    "    INSERT INTO {table_name} (file_name, url, download_timestamp, Modified_date)\n",
    "    VALUES ('{csv_filename}', '{csv_url}', '{download_timestamp}', '{last_modified}')\n",
    "    \"\"\"\n",
    "    \n",
    "    # Execute the dynamic SQL query using spark.sql()\n",
    "    spark.sql(insert_query)\n",
    "\n",
    "    return (f\"Insert metadata executed successfully: {insert_query}\")"
   ]
  },
  {
   "cell_type": "code",
   "execution_count": 0,
   "metadata": {
    "application/vnd.databricks.v1+cell": {
     "cellMetadata": {
      "byteLimit": 2048000,
      "rowLimit": 10000
     },
     "inputWidgets": {},
     "nuid": "ca726865-fb49-4fcd-8076-9880aa7ba2e8",
     "showTitle": false,
     "tableResultSettingsMap": {},
     "title": ""
    }
   },
   "outputs": [],
   "source": [
    "def process_csv(dataset):\n",
    "    # print(dataset)\n",
    "    csv_url = dataset['distribution'][0]['downloadURL']\n",
    "    csv_filename = os.path.basename(csv_url)\n",
    "      # Check if file has been modified since last run\n",
    "    last_modified = dataset.get('modified', '')\n",
    "    #print(last_modified)\n",
    "\n",
    "    metadata_df = read_metadata()\n",
    "\n",
    "    # Filter DataFrame for the given csv_filename\n",
    "    filtered_df = metadata_df.filter(metadata_df.file_name == csv_filename)\n",
    "\n",
    "    # Check if the csv_filename exists and compare modified_date to check if file is modified.\n",
    "    if filtered_df.count() > 0:\n",
    "        # Extract the modified date from the filtered DataFrame\n",
    "        modified_date1 = filtered_df.collect()[0]['Modified_date']\n",
    "        modified_date = modified_date1.strftime('%Y-%m-%d')\n",
    "        if modified_date != last_modified:\n",
    "            print(f\"The last modified date for {csv_filename} is different. Expected: {last_modified}, Found: {modified_date}\")\n",
    "            #Download and process CSV\n",
    "            print(f\"Downloading and processing {csv_url}...\")\n",
    "            response = requests.get(csv_url)\n",
    "            response.raise_for_status()\n",
    "\n",
    "            # Save the CSV\n",
    "            os.makedirs(DATA_DIR, exist_ok=True)\n",
    "            with open(DATA_DIR+csv_filename, 'wb') as file:\n",
    "                file.write(response.content)\n",
    "\n",
    "            # Process the CSV into DataFrame\n",
    "            df = pd.read_csv(DATA_DIR+csv_filename, dtype={\"column_name\": str},low_memory=False)\n",
    "\n",
    "            # Convert column names to snake_case\n",
    "            df.columns = [to_snake_case(col) for col in df.columns]\n",
    "            #print(df)\n",
    "            spark_df = spark.createDataFrame(df)\n",
    "            #display(spark_df)\n",
    "            insert_metadata(csv_filename, csv_url, last_modified)\n",
    "            \n",
    "        else:\n",
    "            print(f\"Dataset {csv_filename} not modified, skipping download process....\")\n",
    "    else:\n",
    "        print(f\"CSV file '{csv_filename}' not found in the DataFrame.\")\n",
    "        #Download and process CSV\n",
    "        print(f\"Downloading and processing {csv_url}...\")\n",
    "        response = requests.get(csv_url)\n",
    "        response.raise_for_status()\n",
    "\n",
    "        # Save the CSV\n",
    "        os.makedirs(DATA_DIR, exist_ok=True)\n",
    "        with open(DATA_DIR+csv_filename, 'wb') as file:\n",
    "            file.write(response.content)\n",
    "\n",
    "        # Process the CSV into DataFrame\n",
    "        df = pd.read_csv(DATA_DIR+csv_filename, dtype={\"column_name\": str},low_memory=False)\n",
    "\n",
    "        # Convert column names to snake_case\n",
    "        df.columns = [to_snake_case(col) for col in df.columns]\n",
    "        #print(df)\n",
    "        spark_df = spark.createDataFrame(df)\n",
    "        #display(spark_df)\n",
    "        insert_metadata(csv_filename, csv_url, last_modified)\n",
    "    return csv_filename  \n",
    "  \n"
   ]
  },
  {
   "cell_type": "code",
   "execution_count": 0,
   "metadata": {
    "application/vnd.databricks.v1+cell": {
     "cellMetadata": {
      "byteLimit": 2048000,
      "rowLimit": 10000
     },
     "inputWidgets": {},
     "nuid": "c8e51153-5265-41f9-9aad-84128865cb54",
     "showTitle": false,
     "tableResultSettingsMap": {},
     "title": ""
    }
   },
   "outputs": [
    {
     "output_type": "stream",
     "name": "stdout",
     "output_type": "stream",
     "text": [
      "CSV file 'ASCQR_OAS_CAHPS_NATIONAL.csv' not found in the DataFrame.\nDownloading and processing https://data.cms.gov/provider-data/sites/default/files/resources/65a38069cc48376e9f519a3609424537_1729022709/ASCQR_OAS_CAHPS_NATIONAL.csv...\nCSV file 'ASCQR_OAS_CAHPS_STATE.csv' not found in the DataFrame.\nDownloading and processing https://data.cms.gov/provider-data/sites/default/files/resources/f086b4b7fc9d628f08e70ade47dff3c5_1729022711/ASCQR_OAS_CAHPS_STATE.csv...\nCSV file 'ASC_State.csv' not found in the DataFrame.\nDownloading and processing https://data.cms.gov/provider-data/sites/default/files/resources/d3aea2dfaeae85c44017441b184aeb6d_1729022710/ASC_State.csv...\nCSV file 'ASC_Facility.csv' not found in the DataFrame.\nDownloading and processing https://data.cms.gov/provider-data/sites/default/files/resources/dd03994fc93e296bb0297f1cd43cc987_1729022707/ASC_Facility.csv...\nCSV file 'ASC_National.csv' not found in the DataFrame.\nDownloading and processing https://data.cms.gov/provider-data/sites/default/files/resources/43dcc3212bfab34ac186ac2e19196b09_1729022708/ASC_National.csv...\nCSV file 'ASCQR_OAS_CAHPS_BY_ASC.csv' not found in the DataFrame.\nDownloading and processing https://data.cms.gov/provider-data/sites/default/files/resources/8392b7d74209bb3dc54ff1b09635e733_1729022706/ASCQR_OAS_CAHPS_BY_ASC.csv...\nCSV file 'Complications_and_Deaths-National.csv' not found in the DataFrame.\nDownloading and processing https://data.cms.gov/provider-data/sites/default/files/resources/aba37eca11edcd4272afff9e6dc78bda_1729022714/Complications_and_Deaths-National.csv...\nCSV file 'CMS_PSI_6_decimal_file.csv' not found in the DataFrame.\nDownloading and processing https://data.cms.gov/provider-data/sites/default/files/resources/84bd78c1b4e386185bcef2af963d8cf9_1729022712/CMS_PSI_6_decimal_file.csv...\nCSV file 'Footnote_Crosswalk.csv' not found in the DataFrame.\nDownloading and processing https://data.cms.gov/provider-data/sites/default/files/resources/f29bb7c812e242f6edfef0a4b7d0eaca_1720656687/Footnote_Crosswalk.csv...\nCSV file 'Complications_and_Deaths-State.csv' not found in the DataFrame.\nDownloading and processing https://data.cms.gov/provider-data/sites/default/files/resources/247bb4364e310313773d74ccb0fb3231_1729022715/Complications_and_Deaths-State.csv...\nCSV file 'CJR_Quality_Reporting_January_2024_Production_File.csv' not found in the DataFrame.\nDownloading and processing https://data.cms.gov/provider-data/sites/default/files/resources/739d54d012ec9a7113d06d2f1d29e9c2_1720656684/CJR_Quality_Reporting_January_2024_Production_File.csv...\nCSV file 'Complications_and_Deaths-Hospital.csv' not found in the DataFrame.\nDownloading and processing https://data.cms.gov/provider-data/sites/default/files/resources/6af7c44d77436e5a1caac3ce39a83fe9_1729022713/Complications_and_Deaths-Hospital.csv...\nCSV file 'FY2021_Distribution_of_Net_Change_in_Base_Op_DRG_Payment_Amt.csv' not found in the DataFrame.\nDownloading and processing https://data.cms.gov/provider-data/sites/default/files/resources/1896b4292d6cbc089d0b0bb6d8e6ebe7_1720656688/FY2021_Distribution_of_Net_Change_in_Base_Op_DRG_Payment_Amt.csv...\nCSV file 'FY2021_Net_Change_in_Base_Op_DRG_Payment_Amt.csv' not found in the DataFrame.\nDownloading and processing https://data.cms.gov/provider-data/sites/default/files/resources/794aef5e642b10af5e5b0502025c1ce0_1720656688/FY2021_Net_Change_in_Base_Op_DRG_Payment_Amt.csv...\nCSV file 'OAS_CAHPS_Footnotes.csv' not found in the DataFrame.\nDownloading and processing https://data.cms.gov/provider-data/sites/default/files/resources/92e8b13e8f8b1a7d35957d49543be589_1729022716/OAS_CAHPS_Footnotes.csv...\nCSV file 'HCAHPS-Hospital.csv' not found in the DataFrame.\nDownloading and processing https://data.cms.gov/provider-data/sites/default/files/resources/78a50346fbe828ea0ce2837847af6a7c_1729296307/HCAHPS-Hospital.csv...\nCSV file 'FY2021_Percent_Change_in_Medicare_Payments.csv' not found in the DataFrame.\nDownloading and processing https://data.cms.gov/provider-data/sites/default/files/resources/4f65e943e47afa24ea45a22b4163bfa9_1720656689/FY2021_Percent_Change_in_Medicare_Payments.csv...\nCSV file 'FY2021_Value_Based_Incentive_Payment_Amount.csv' not found in the DataFrame.\nDownloading and processing https://data.cms.gov/provider-data/sites/default/files/resources/cec1d2baf2535cf914795f3fdcbbcb0a_1720656689/FY2021_Value_Based_Incentive_Payment_Amount.csv...\nCSV file 'HCAHPS-National.csv' not found in the DataFrame.\nDownloading and processing https://data.cms.gov/provider-data/sites/default/files/resources/08eefc5ab7c6cce7b3555fd79b0d8eec_1729296308/HCAHPS-National.csv...\nCSV file 'HCAHPS-State.csv' not found in the DataFrame.\nDownloading and processing https://data.cms.gov/provider-data/sites/default/files/resources/e4ca53701c73500a3188874f2bbd2854_1729296309/HCAHPS-State.csv...\nCSV file 'Healthcare_Associated_Infections-Hospital.csv' not found in the DataFrame.\nDownloading and processing https://data.cms.gov/provider-data/sites/default/files/resources/43825e12dc0c923df9ba5cbdf473c9d5_1729022723/Healthcare_Associated_Infections-Hospital.csv...\nCSV file 'Healthcare_Associated_Infections-State.csv' not found in the DataFrame.\nDownloading and processing https://data.cms.gov/provider-data/sites/default/files/resources/27986ce2f1193d3fcad7fa1bddc93c3b_1729022724/Healthcare_Associated_Infections-State.csv...\nCSV file 'Healthcare_Associated_Infections-National.csv' not found in the DataFrame.\nDownloading and processing https://data.cms.gov/provider-data/sites/default/files/resources/a87585b27c50c3899eec6a857958a5f0_1729022724/Healthcare_Associated_Infections-National.csv...\nCSV file 'OQR_OAS_CAHPS_NATIONAL.csv' not found in the DataFrame.\nDownloading and processing https://data.cms.gov/provider-data/sites/default/files/resources/fdc286f2f60134775fa4b7f7b249b075_1729022726/OQR_OAS_CAHPS_NATIONAL.csv...\nCSV file 'OQR_OAS_CAHPS_BY_HOSPITAL.csv' not found in the DataFrame.\nDownloading and processing https://data.cms.gov/provider-data/sites/default/files/resources/9189f27bb8ab7a4ff8919bdc682bf79a_1729022725/OQR_OAS_CAHPS_BY_HOSPITAL.csv...\nCSV file 'PCH_Complications_Unplanned_Hospital_Visits_HOSPITAL.csv' not found in the DataFrame.\nDownloading and processing https://data.cms.gov/provider-data/sites/default/files/resources/bc386a698d7a9b8d09bf37a73371a899_1729022729/PCH_Complications_Unplanned_Hospital_Visits_HOSPITAL.csv...\nCSV file 'Hospital_General_Information.csv' not found in the DataFrame.\nDownloading and processing https://data.cms.gov/provider-data/sites/default/files/resources/893c372430d9d71a1c52737d01239d47_1729022728/Hospital_General_Information.csv...\nCSV file 'OQR_OAS_CAHPS_STATE.csv' not found in the DataFrame.\nDownloading and processing https://data.cms.gov/provider-data/sites/default/files/resources/5c995348b26c08179f1149d3b07dcb70_1729022727/OQR_OAS_CAHPS_STATE.csv...\nCSV file 'PCH_Complications_Unplanned_Hospital_Visits_NATIONAL.csv' not found in the DataFrame.\nDownloading and processing https://data.cms.gov/provider-data/sites/default/files/resources/6a91b2a437ea47e61cd34c975dd54729_1729022730/PCH_Complications_Unplanned_Hospital_Visits_NATIONAL.csv...\nCSV file 'FY_2024_HAC_Reduction_Program_Hospital.csv' not found in the DataFrame.\nDownloading and processing https://data.cms.gov/provider-data/sites/default/files/resources/89d95e2d63816c3d32291ce22b607844_1720656699/FY_2024_HAC_Reduction_Program_Hospital.csv...\nCSV file 'PCH_HCAHPS_NATIONAL.csv' not found in the DataFrame.\nDownloading and processing https://data.cms.gov/provider-data/sites/default/files/resources/51dabafd670b6379256fc111bcbec8b4_1729022734/PCH_HCAHPS_NATIONAL.csv...\nCSV file 'HOSPITAL_QUARTERLY_MSPB_6_DECIMALS.csv' not found in the DataFrame.\nDownloading and processing https://data.cms.gov/provider-data/sites/default/files/resources/500f70bcb6c65433c00a96af0e0c0430_1720656700/HOSPITAL_QUARTERLY_MSPB_6_DECIMALS.csv...\nCSV file 'PCH_HEALTHCARE_ASSOCIATED_INFECTIONS_HOSPITAL.csv' not found in the DataFrame.\nDownloading and processing https://data.cms.gov/provider-data/sites/default/files/resources/d24fd9fa17ad5673de9cf6220c1c7a5a_1729022732/PCH_HEALTHCARE_ASSOCIATED_INFECTIONS_HOSPITAL.csv...\nCSV file 'PCH_HCAHPS_HOSPITAL.csv' not found in the DataFrame.\nDownloading and processing https://data.cms.gov/provider-data/sites/default/files/resources/155aff6db1e04cbbe1676ce459d71053_1729022733/PCH_HCAHPS_HOSPITAL.csv...\nCSV file 'PCH_HCAHPS_STATE.csv' not found in the DataFrame.\nDownloading and processing https://data.cms.gov/provider-data/sites/default/files/resources/f1d65b1e3b562b932fd3827c7783ea35_1729022735/PCH_HCAHPS_STATE.csv...\nCSV file 'FY_2024_Hospital_Readmissions_Reduction_Program_Hospital.csv' not found in the DataFrame.\nDownloading and processing https://data.cms.gov/provider-data/sites/default/files/resources/bfd0c8c38e221fa2045de81691a6e300_1720656704/FY_2024_Hospital_Readmissions_Reduction_Program_Hospital.csv...\nCSV file 'hvbp_person_and_community_engagement.csv' not found in the DataFrame.\nDownloading and processing https://data.cms.gov/provider-data/sites/default/files/resources/ccc6534894a9bfe22b5f986260ed359e_1720656706/hvbp_person_and_community_engagement.csv...\nCSV file 'hvbp_safety.csv' not found in the DataFrame.\nDownloading and processing https://data.cms.gov/provider-data/sites/default/files/resources/33e26123c259ca779642b0d61b2e82f5_1720656707/hvbp_safety.csv...\nCSV file 'hvbp_efficiency_and_cost_reduction.csv' not found in the DataFrame.\nDownloading and processing https://data.cms.gov/provider-data/sites/default/files/resources/46325dbbe6d2f654ecbb5046059c664e_1720656706/hvbp_efficiency_and_cost_reduction.csv...\nCSV file 'hvbp_clinical_outcomes.csv' not found in the DataFrame.\nDownloading and processing https://data.cms.gov/provider-data/sites/default/files/resources/f5c74a8e8a0f2017f6e13b6fc517ae4e_1720656705/hvbp_clinical_outcomes.csv...\nCSV file 'hvbp_tps.csv' not found in the DataFrame.\nDownloading and processing https://data.cms.gov/provider-data/sites/default/files/resources/5551d4839c1dd75e3f7fe1310a1e2369_1720656708/hvbp_tps.csv...\nCSV file 'IPFQR_QualityMeasures_National.csv' not found in the DataFrame.\nDownloading and processing https://data.cms.gov/provider-data/sites/default/files/resources/463e16600bec8c0aeb75ebfaef253ab7_1729022743/IPFQR_QualityMeasures_National.csv...\nCSV file 'IPFQR_QualityMeasures_State.csv' not found in the DataFrame.\nDownloading and processing https://data.cms.gov/provider-data/sites/default/files/resources/aaf5b6168e889e217580d86b5c443c6d_1729022744/IPFQR_QualityMeasures_State.csv...\nCSV file 'Measure_Dates.csv' not found in the DataFrame.\nDownloading and processing https://data.cms.gov/provider-data/sites/default/files/resources/633113381312e1fa86c8e0ba8b14ed0f_1729022744/Measure_Dates.csv...\nCSV file 'IPFQR_QualityMeasures_Facility.csv' not found in the DataFrame.\nDownloading and processing https://data.cms.gov/provider-data/sites/default/files/resources/e56cdbea2d002358610ebdb957cb35de_1729022742/IPFQR_QualityMeasures_Facility.csv...\nCSV file 'Medicare_Hospital_Spending_by_Claim.csv' not found in the DataFrame.\nDownloading and processing https://data.cms.gov/provider-data/sites/default/files/resources/1f8cde9e222d5d49f88a894bcf7a8981_1720656712/Medicare_Hospital_Spending_by_Claim.csv...\nCSV file 'Medicare_Hospital_Spending_Per_Patient-Hospital.csv' not found in the DataFrame.\nDownloading and processing https://data.cms.gov/provider-data/sites/default/files/resources/69874ce604586980ac088283c1b35095_1729022746/Medicare_Hospital_Spending_Per_Patient-Hospital.csv...\nCSV file 'Medicare_Hospital_Spending_Per_Patient-State.csv' not found in the DataFrame.\nDownloading and processing https://data.cms.gov/provider-data/sites/default/files/resources/b53c8e7d24557eb1e898557e4c7d7484_1729022747/Medicare_Hospital_Spending_Per_Patient-State.csv...\nCSV file 'Outpatient_Imaging_Efficiency-National.csv' not found in the DataFrame.\nDownloading and processing https://data.cms.gov/provider-data/sites/default/files/resources/78172a595e76dc064ea87884c5aea1f8_1729022749/Outpatient_Imaging_Efficiency-National.csv...\nCSV file 'Outpatient_Imaging_Efficiency-Hospital.csv' not found in the DataFrame.\nDownloading and processing https://data.cms.gov/provider-data/sites/default/files/resources/d0134a9a89e59d49426cf5a2ad063b60_1729022748/Outpatient_Imaging_Efficiency-Hospital.csv...\nCSV file 'Medicare_Hospital_Spending_Per_Patient-National.csv' not found in the DataFrame.\nDownloading and processing https://data.cms.gov/provider-data/sites/default/files/resources/ff15a8451b83ebc70b85a5c0e870a751_1729022747/Medicare_Hospital_Spending_Per_Patient-National.csv...\nCSV file 'Outpatient_Imaging_Efficiency-State.csv' not found in the DataFrame.\nDownloading and processing https://data.cms.gov/provider-data/sites/default/files/resources/6fb7a772c39e34e630e7e97ec4887263_1729022750/Outpatient_Imaging_Efficiency-State.csv...\nCSV file 'Payment-National.csv' not found in the DataFrame.\nDownloading and processing https://data.cms.gov/provider-data/sites/default/files/resources/38bcaf4b07c80b53859f2733ef74a71e_1729022751/Payment-National.csv...\nCSV file 'Timely_and_Effective_Care-Hospital.csv' not found in the DataFrame.\nDownloading and processing https://data.cms.gov/provider-data/sites/default/files/resources/0437b5494ac61507ad90f2af6b8085a7_1729022754/Timely_and_Effective_Care-Hospital.csv...\nCSV file 'Timely_and_Effective_Care-National.csv' not found in the DataFrame.\nDownloading and processing https://data.cms.gov/provider-data/sites/default/files/resources/b298b4a8c05addc75d1e9c9c9b2e4706_1729022754/Timely_and_Effective_Care-National.csv...\nCSV file 'Payment_and_Value_of_Care-Hospital.csv' not found in the DataFrame.\nDownloading and processing https://data.cms.gov/provider-data/sites/default/files/resources/f7574fccebccbbf1155650f97bbcc952_1729022753/Payment_and_Value_of_Care-Hospital.csv...\nCSV file 'Timely_and_Effective_Care-State.csv' not found in the DataFrame.\nDownloading and processing https://data.cms.gov/provider-data/sites/default/files/resources/c4f74a440cc6ce4ed941fa3c9de2ab58_1729022755/Timely_and_Effective_Care-State.csv...\nCSV file 'Unplanned_Hospital_Visits-Hospital.csv' not found in the DataFrame.\nDownloading and processing https://data.cms.gov/provider-data/sites/default/files/resources/30edc1d0417a34b58affcc2495a02b0a_1729022756/Unplanned_Hospital_Visits-Hospital.csv...\nCSV file 'Unplanned_Hospital_Visits-National.csv' not found in the DataFrame.\nDownloading and processing https://data.cms.gov/provider-data/sites/default/files/resources/d30b0557f1d06bee1d5646d2eaede709_1729022757/Unplanned_Hospital_Visits-National.csv...\nCSV file 'VA_IPF.csv' not found in the DataFrame.\nDownloading and processing https://data.cms.gov/provider-data/sites/default/files/resources/0742f326b7a19b57bc01136b2cd8b7b6_1729022759/VA_IPF.csv...\nCSV file 'Unplanned_Hospital_Visits-State.csv' not found in the DataFrame.\nDownloading and processing https://data.cms.gov/provider-data/sites/default/files/resources/73ce05bc6ecbb5def0e859818a906f7b_1729022759/Unplanned_Hospital_Visits-State.csv...\nCSV file 'VA_TE.csv' not found in the DataFrame.\nDownloading and processing https://data.cms.gov/provider-data/sites/default/files/resources/07084088a9de9e44c51bef291a4e163a_1729022760/VA_TE.csv...\nCSV file 'Data_Updates_October_2024.csv' not found in the DataFrame.\nDownloading and processing https://data.cms.gov/provider-data/sites/default/files/resources/c9442d9ab6d7d2b50976790e9689e958_1729022763/Data_Updates_October_2024.csv...\nCSV file 'Value_of_Care-National.csv' not found in the DataFrame.\nDownloading and processing https://data.cms.gov/provider-data/sites/default/files/resources/d59debd89c80b2ecf3c24d40c4bb0869_1729022761/Value_of_Care-National.csv...\nCSV file 'Veterans_Health_Administration_Provider_Level_Data.csv' not found in the DataFrame.\nDownloading and processing https://data.cms.gov/provider-data/sites/default/files/resources/9cea8696850b78e02559183bd6071fd6_1729022762/Veterans_Health_Administration_Provider_Level_Data.csv...\nCSV file 'Maternal_Health-National.csv' not found in the DataFrame.\nDownloading and processing https://data.cms.gov/provider-data/sites/default/files/resources/96584b566c4af50acd2e377c193d870a_1729022764/Maternal_Health-National.csv...\nCSV file 'Payment-State.csv' not found in the DataFrame.\nDownloading and processing https://data.cms.gov/provider-data/sites/default/files/resources/85c72b7f141f6373088dc6c530d662f4_1729022752/Payment-State.csv...\nCSV file 'Maternal_Health-Hospital.csv' not found in the DataFrame.\nDownloading and processing https://data.cms.gov/provider-data/sites/default/files/resources/5a4754b088fdb10d2ae278ef215925a7_1729022763/Maternal_Health-Hospital.csv...\nCSV file 'PATIENT_REPORTED_OUTCOMES_FACILITY.csv' not found in the DataFrame.\nDownloading and processing https://data.cms.gov/provider-data/sites/default/files/resources/60ee1962356ca17e50e12f95d2871b46_1729022766/PATIENT_REPORTED_OUTCOMES_FACILITY.csv...\nCSV file 'PCH_Palliative_Care_HOSPITAL.csv' not found in the DataFrame.\nDownloading and processing https://data.cms.gov/provider-data/sites/default/files/resources/2d420234bc6bcc963c6c374d91b0ed90_1729022767/PCH_Palliative_Care_HOSPITAL.csv...\nCSV file 'Maternal_Health-State.csv' not found in the DataFrame.\nDownloading and processing https://data.cms.gov/provider-data/sites/default/files/resources/95a24d7554864accbd8dc777d39ae334_1729022765/Maternal_Health-State.csv...\nCSV file 'Health_Equity_Hospital.csv' not found in the DataFrame.\nDownloading and processing https://data.cms.gov/provider-data/sites/default/files/resources/442a41742993e74960ba3f67d875fa4f_1729022768/Health_Equity_Hospital.csv...\nCSV file 'PCH_Palliative_Care_NATIONAL.csv' not found in the DataFrame.\nDownloading and processing https://data.cms.gov/provider-data/sites/default/files/resources/b19666c7d9f040b0fffd9c7135a7d92d_1729022768/PCH_Palliative_Care_NATIONAL.csv...\nCSV file 'Health_Equity_State.csv' not found in the DataFrame.\nDownloading and processing https://data.cms.gov/provider-data/sites/default/files/resources/a0ee7b7dd1360c2f110c01ddb2eada34_1729022768/Health_Equity_State.csv...\nCSV file 'Health_Equity_National.csv' not found in the DataFrame.\nDownloading and processing https://data.cms.gov/provider-data/sites/default/files/resources/506d2b499bfb5b0aebc4f8de409f4024_1729022768/Health_Equity_National.csv...\n"
     ]
    }
   ],
   "source": [
    "# Main function to download and process datasets\n",
    "def main():\n",
    "    # Fetch datasets\n",
    "    datasets = fetch_datasets()\n",
    "    \n",
    "    # Process datasets in parallel\n",
    "    with ThreadPoolExecutor() as executor:\n",
    "        files = list(executor.map(process_csv, datasets))\n",
    "\n",
    "\n",
    "if __name__ == \"__main__\":\n",
    "    main()"
   ]
  },
  {
   "cell_type": "code",
   "execution_count": 0,
   "metadata": {
    "application/vnd.databricks.v1+cell": {
     "cellMetadata": {
      "byteLimit": 2048000,
      "implicitDf": true,
      "rowLimit": 10000
     },
     "inputWidgets": {},
     "nuid": "7da7fe3c-f09b-42f9-93a4-c62e6d959b0b",
     "showTitle": false,
     "tableResultSettingsMap": {},
     "title": ""
    }
   },
   "outputs": [
    {
     "output_type": "display_data",
     "data": {
      "text/html": [
       "<style scoped>\n",
       "  .table-result-container {\n",
       "    max-height: 300px;\n",
       "    overflow: auto;\n",
       "  }\n",
       "  table, th, td {\n",
       "    border: 1px solid black;\n",
       "    border-collapse: collapse;\n",
       "  }\n",
       "  th, td {\n",
       "    padding: 5px;\n",
       "  }\n",
       "  th {\n",
       "    text-align: left;\n",
       "  }\n",
       "</style><div class='table-result-container'><table class='table-result'><thead style='background-color: white'><tr><th>file_name</th><th>url</th><th>download_timestamp</th><th>Modified_date</th></tr></thead><tbody><tr><td>FY2021_Distribution_of_Net_Change_in_Base_Op_DRG_Payment_Amt.csv</td><td>https://data.cms.gov/provider-data/sites/default/files/resources/1896b4292d6cbc089d0b0bb6d8e6ebe7_1720656688/FY2021_Distribution_of_Net_Change_in_Base_Op_DRG_Payment_Amt.csv</td><td>2025-01-10T04:31:20.000+0000</td><td>2023-01-06</td></tr><tr><td>FY_2024_Hospital_Readmissions_Reduction_Program_Hospital.csv</td><td>https://data.cms.gov/provider-data/sites/default/files/resources/bfd0c8c38e221fa2045de81691a6e300_1720656704/FY_2024_Hospital_Readmissions_Reduction_Program_Hospital.csv</td><td>2025-01-10T04:32:42.000+0000</td><td>2024-01-08</td></tr><tr><td>PCH_Complications_Unplanned_Hospital_Visits_HOSPITAL.csv</td><td>https://data.cms.gov/provider-data/sites/default/files/resources/bc386a698d7a9b8d09bf37a73371a899_1729022729/PCH_Complications_Unplanned_Hospital_Visits_HOSPITAL.csv</td><td>2025-01-10T04:32:09.000+0000</td><td>2024-10-10</td></tr><tr><td>PCH_Complications_Unplanned_Hospital_Visits_NATIONAL.csv</td><td>https://data.cms.gov/provider-data/sites/default/files/resources/6a91b2a437ea47e61cd34c975dd54729_1729022730/PCH_Complications_Unplanned_Hospital_Visits_NATIONAL.csv</td><td>2025-01-10T04:32:18.000+0000</td><td>2024-10-10</td></tr><tr><td>CJR_Quality_Reporting_January_2024_Production_File.csv</td><td>https://data.cms.gov/provider-data/sites/default/files/resources/739d54d012ec9a7113d06d2f1d29e9c2_1720656684/CJR_Quality_Reporting_January_2024_Production_File.csv</td><td>2025-01-10T04:31:04.000+0000</td><td>2024-01-08</td></tr><tr><td>Veterans_Health_Administration_Provider_Level_Data.csv</td><td>https://data.cms.gov/provider-data/sites/default/files/resources/9cea8696850b78e02559183bd6071fd6_1729022762/Veterans_Health_Administration_Provider_Level_Data.csv</td><td>2025-01-10T04:34:05.000+0000</td><td>2024-10-10</td></tr><tr><td>Medicare_Hospital_Spending_Per_Patient-National.csv</td><td>https://data.cms.gov/provider-data/sites/default/files/resources/ff15a8451b83ebc70b85a5c0e870a751_1729022747/Medicare_Hospital_Spending_Per_Patient-National.csv</td><td>2025-01-10T04:33:18.000+0000</td><td>2024-10-10</td></tr><tr><td>Medicare_Hospital_Spending_Per_Patient-Hospital.csv</td><td>https://data.cms.gov/provider-data/sites/default/files/resources/69874ce604586980ac088283c1b35095_1729022746/Medicare_Hospital_Spending_Per_Patient-Hospital.csv</td><td>2025-01-10T04:33:08.000+0000</td><td>2024-10-10</td></tr><tr><td>PCH_HEALTHCARE_ASSOCIATED_INFECTIONS_HOSPITAL.csv</td><td>https://data.cms.gov/provider-data/sites/default/files/resources/d24fd9fa17ad5673de9cf6220c1c7a5a_1729022732/PCH_HEALTHCARE_ASSOCIATED_INFECTIONS_HOSPITAL.csv</td><td>2025-01-10T04:32:26.000+0000</td><td>2024-10-10</td></tr><tr><td>Medicare_Hospital_Spending_Per_Patient-State.csv</td><td>https://data.cms.gov/provider-data/sites/default/files/resources/b53c8e7d24557eb1e898557e4c7d7484_1729022747/Medicare_Hospital_Spending_Per_Patient-State.csv</td><td>2025-01-10T04:33:18.000+0000</td><td>2024-10-10</td></tr><tr><td>FY2021_Net_Change_in_Base_Op_DRG_Payment_Amt.csv</td><td>https://data.cms.gov/provider-data/sites/default/files/resources/794aef5e642b10af5e5b0502025c1ce0_1720656688/FY2021_Net_Change_in_Base_Op_DRG_Payment_Amt.csv</td><td>2025-01-10T04:31:20.000+0000</td><td>2023-01-06</td></tr><tr><td>FY2021_Value_Based_Incentive_Payment_Amount.csv</td><td>https://data.cms.gov/provider-data/sites/default/files/resources/cec1d2baf2535cf914795f3fdcbbcb0a_1720656689/FY2021_Value_Based_Incentive_Payment_Amount.csv</td><td>2025-01-10T04:31:31.000+0000</td><td>2023-01-06</td></tr><tr><td>FY2021_Percent_Change_in_Medicare_Payments.csv</td><td>https://data.cms.gov/provider-data/sites/default/files/resources/4f65e943e47afa24ea45a22b4163bfa9_1720656689/FY2021_Percent_Change_in_Medicare_Payments.csv</td><td>2025-01-10T04:31:31.000+0000</td><td>2023-01-06</td></tr><tr><td>Healthcare_Associated_Infections-National.csv</td><td>https://data.cms.gov/provider-data/sites/default/files/resources/a87585b27c50c3899eec6a857958a5f0_1729022724/Healthcare_Associated_Infections-National.csv</td><td>2025-01-10T04:31:49.000+0000</td><td>2024-10-10</td></tr><tr><td>Healthcare_Associated_Infections-Hospital.csv</td><td>https://data.cms.gov/provider-data/sites/default/files/resources/43825e12dc0c923df9ba5cbdf473c9d5_1729022723/Healthcare_Associated_Infections-Hospital.csv</td><td>2025-01-10T04:31:54.000+0000</td><td>2024-10-10</td></tr><tr><td>Outpatient_Imaging_Efficiency-National.csv</td><td>https://data.cms.gov/provider-data/sites/default/files/resources/78172a595e76dc064ea87884c5aea1f8_1729022749/Outpatient_Imaging_Efficiency-National.csv</td><td>2025-01-10T04:33:18.000+0000</td><td>2024-10-10</td></tr><tr><td>Healthcare_Associated_Infections-State.csv</td><td>https://data.cms.gov/provider-data/sites/default/files/resources/27986ce2f1193d3fcad7fa1bddc93c3b_1729022724/Healthcare_Associated_Infections-State.csv</td><td>2025-01-10T04:31:49.000+0000</td><td>2024-10-10</td></tr><tr><td>Outpatient_Imaging_Efficiency-Hospital.csv</td><td>https://data.cms.gov/provider-data/sites/default/files/resources/d0134a9a89e59d49426cf5a2ad063b60_1729022748/Outpatient_Imaging_Efficiency-Hospital.csv</td><td>2025-01-10T04:33:18.000+0000</td><td>2024-10-10</td></tr><tr><td>FY_2024_HAC_Reduction_Program_Hospital.csv</td><td>https://data.cms.gov/provider-data/sites/default/files/resources/89d95e2d63816c3d32291ce22b607844_1720656699/FY_2024_HAC_Reduction_Program_Hospital.csv</td><td>2025-01-10T04:32:18.000+0000</td><td>2024-01-08</td></tr><tr><td>hvbp_person_and_community_engagement.csv</td><td>https://data.cms.gov/provider-data/sites/default/files/resources/ccc6534894a9bfe22b5f986260ed359e_1720656706/hvbp_person_and_community_engagement.csv</td><td>2025-01-10T04:32:43.000+0000</td><td>2024-01-08</td></tr><tr><td>Medicare_Hospital_Spending_by_Claim.csv</td><td>https://data.cms.gov/provider-data/sites/default/files/resources/1f8cde9e222d5d49f88a894bcf7a8981_1720656712/Medicare_Hospital_Spending_by_Claim.csv</td><td>2025-01-10T04:33:10.000+0000</td><td>2024-01-08</td></tr><tr><td>Outpatient_Imaging_Efficiency-State.csv</td><td>https://data.cms.gov/provider-data/sites/default/files/resources/6fb7a772c39e34e630e7e97ec4887263_1729022750/Outpatient_Imaging_Efficiency-State.csv</td><td>2025-01-10T04:33:25.000+0000</td><td>2024-10-10</td></tr><tr><td>HOSPITAL_QUARTERLY_MSPB_6_DECIMALS.csv</td><td>https://data.cms.gov/provider-data/sites/default/files/resources/500f70bcb6c65433c00a96af0e0c0430_1720656700/HOSPITAL_QUARTERLY_MSPB_6_DECIMALS.csv</td><td>2025-01-10T04:32:26.000+0000</td><td>2024-01-08</td></tr><tr><td>Timely_and_Effective_Care-National.csv</td><td>https://data.cms.gov/provider-data/sites/default/files/resources/b298b4a8c05addc75d1e9c9c9b2e4706_1729022754/Timely_and_Effective_Care-National.csv</td><td>2025-01-10T04:33:36.000+0000</td><td>2024-10-10</td></tr><tr><td>Unplanned_Hospital_Visits-National.csv</td><td>https://data.cms.gov/provider-data/sites/default/files/resources/d30b0557f1d06bee1d5646d2eaede709_1729022757/Unplanned_Hospital_Visits-National.csv</td><td>2025-01-10T04:33:48.000+0000</td><td>2024-10-10</td></tr><tr><td>Payment_and_Value_of_Care-Hospital.csv</td><td>https://data.cms.gov/provider-data/sites/default/files/resources/f7574fccebccbbf1155650f97bbcc952_1729022753/Payment_and_Value_of_Care-Hospital.csv</td><td>2025-01-10T04:33:37.000+0000</td><td>2024-10-10</td></tr><tr><td>PATIENT_REPORTED_OUTCOMES_FACILITY.csv</td><td>https://data.cms.gov/provider-data/sites/default/files/resources/60ee1962356ca17e50e12f95d2871b46_1729022766/PATIENT_REPORTED_OUTCOMES_FACILITY.csv</td><td>2025-01-10T04:34:26.000+0000</td><td>2024-10-10</td></tr><tr><td>hvbp_efficiency_and_cost_reduction.csv</td><td>https://data.cms.gov/provider-data/sites/default/files/resources/46325dbbe6d2f654ecbb5046059c664e_1720656706/hvbp_efficiency_and_cost_reduction.csv</td><td>2025-01-10T04:32:42.000+0000</td><td>2024-01-08</td></tr><tr><td>Timely_and_Effective_Care-Hospital.csv</td><td>https://data.cms.gov/provider-data/sites/default/files/resources/0437b5494ac61507ad90f2af6b8085a7_1729022754/Timely_and_Effective_Care-Hospital.csv</td><td>2025-01-10T04:33:40.000+0000</td><td>2024-10-10</td></tr><tr><td>Unplanned_Hospital_Visits-Hospital.csv</td><td>https://data.cms.gov/provider-data/sites/default/files/resources/30edc1d0417a34b58affcc2495a02b0a_1729022756/Unplanned_Hospital_Visits-Hospital.csv</td><td>2025-01-10T04:33:51.000+0000</td><td>2024-10-10</td></tr><tr><td>Complications_and_Deaths-National.csv</td><td>https://data.cms.gov/provider-data/sites/default/files/resources/aba37eca11edcd4272afff9e6dc78bda_1729022714/Complications_and_Deaths-National.csv</td><td>2025-01-10T04:31:04.000+0000</td><td>2024-10-10</td></tr><tr><td>Complications_and_Deaths-Hospital.csv</td><td>https://data.cms.gov/provider-data/sites/default/files/resources/6af7c44d77436e5a1caac3ce39a83fe9_1729022713/Complications_and_Deaths-Hospital.csv</td><td>2025-01-10T04:31:12.000+0000</td><td>2024-10-10</td></tr><tr><td>Timely_and_Effective_Care-State.csv</td><td>https://data.cms.gov/provider-data/sites/default/files/resources/c4f74a440cc6ce4ed941fa3c9de2ab58_1729022755/Timely_and_Effective_Care-State.csv</td><td>2025-01-10T04:33:48.000+0000</td><td>2024-10-10</td></tr><tr><td>Unplanned_Hospital_Visits-State.csv</td><td>https://data.cms.gov/provider-data/sites/default/files/resources/73ce05bc6ecbb5def0e859818a906f7b_1729022759/Unplanned_Hospital_Visits-State.csv</td><td>2025-01-10T04:33:57.000+0000</td><td>2024-10-10</td></tr><tr><td>IPFQR_QualityMeasures_Facility.csv</td><td>https://data.cms.gov/provider-data/sites/default/files/resources/e56cdbea2d002358610ebdb957cb35de_1729022742/IPFQR_QualityMeasures_Facility.csv</td><td>2025-01-10T04:32:59.000+0000</td><td>2024-10-10</td></tr><tr><td>IPFQR_QualityMeasures_National.csv</td><td>https://data.cms.gov/provider-data/sites/default/files/resources/463e16600bec8c0aeb75ebfaef253ab7_1729022743/IPFQR_QualityMeasures_National.csv</td><td>2025-01-10T04:32:59.000+0000</td><td>2024-10-10</td></tr><tr><td>Complications_and_Deaths-State.csv</td><td>https://data.cms.gov/provider-data/sites/default/files/resources/247bb4364e310313773d74ccb0fb3231_1729022715/Complications_and_Deaths-State.csv</td><td>2025-01-10T04:31:04.000+0000</td><td>2024-10-10</td></tr><tr><td>Hospital_General_Information.csv</td><td>https://data.cms.gov/provider-data/sites/default/files/resources/893c372430d9d71a1c52737d01239d47_1729022728/Hospital_General_Information.csv</td><td>2025-01-10T04:32:10.000+0000</td><td>2024-10-10</td></tr><tr><td>PCH_Palliative_Care_HOSPITAL.csv</td><td>https://data.cms.gov/provider-data/sites/default/files/resources/2d420234bc6bcc963c6c374d91b0ed90_1729022767/PCH_Palliative_Care_HOSPITAL.csv</td><td>2025-01-10T04:34:26.000+0000</td><td>2024-10-10</td></tr><tr><td>PCH_Palliative_Care_NATIONAL.csv</td><td>https://data.cms.gov/provider-data/sites/default/files/resources/b19666c7d9f040b0fffd9c7135a7d92d_1729022768/PCH_Palliative_Care_NATIONAL.csv</td><td>2025-01-10T04:34:34.000+0000</td><td>2024-10-10</td></tr><tr><td>IPFQR_QualityMeasures_State.csv</td><td>https://data.cms.gov/provider-data/sites/default/files/resources/aaf5b6168e889e217580d86b5c443c6d_1729022744/IPFQR_QualityMeasures_State.csv</td><td>2025-01-10T04:32:59.000+0000</td><td>2024-10-10</td></tr><tr><td>OQR_OAS_CAHPS_BY_HOSPITAL.csv</td><td>https://data.cms.gov/provider-data/sites/default/files/resources/9189f27bb8ab7a4ff8919bdc682bf79a_1729022725/OQR_OAS_CAHPS_BY_HOSPITAL.csv</td><td>2025-01-10T04:31:59.000+0000</td><td>2024-10-10</td></tr><tr><td>Data_Updates_October_2024.csv</td><td>https://data.cms.gov/provider-data/sites/default/files/resources/c9442d9ab6d7d2b50976790e9689e958_1729022763/Data_Updates_October_2024.csv</td><td>2025-01-10T04:34:05.000+0000</td><td>2024-09-23</td></tr><tr><td>ASCQR_OAS_CAHPS_NATIONAL.csv</td><td>https://data.cms.gov/provider-data/sites/default/files/resources/65a38069cc48376e9f519a3609424537_1729022709/ASCQR_OAS_CAHPS_NATIONAL.csv</td><td>2025-01-10T04:30:46.000+0000</td><td>2024-10-10</td></tr><tr><td>Maternal_Health-National.csv</td><td>https://data.cms.gov/provider-data/sites/default/files/resources/96584b566c4af50acd2e377c193d870a_1729022764/Maternal_Health-National.csv</td><td>2025-01-10T04:34:17.000+0000</td><td>2024-10-10</td></tr><tr><td>Maternal_Health-Hospital.csv</td><td>https://data.cms.gov/provider-data/sites/default/files/resources/5a4754b088fdb10d2ae278ef215925a7_1729022763/Maternal_Health-Hospital.csv</td><td>2025-01-10T04:34:19.000+0000</td><td>2024-10-10</td></tr><tr><td>OQR_OAS_CAHPS_NATIONAL.csv</td><td>https://data.cms.gov/provider-data/sites/default/files/resources/fdc286f2f60134775fa4b7f7b249b075_1729022726/OQR_OAS_CAHPS_NATIONAL.csv</td><td>2025-01-10T04:31:59.000+0000</td><td>2024-10-10</td></tr><tr><td>Value_of_Care-National.csv</td><td>https://data.cms.gov/provider-data/sites/default/files/resources/d59debd89c80b2ecf3c24d40c4bb0869_1729022761/Value_of_Care-National.csv</td><td>2025-01-10T04:34:05.000+0000</td><td>2024-10-10</td></tr><tr><td>ASCQR_OAS_CAHPS_BY_ASC.csv</td><td>https://data.cms.gov/provider-data/sites/default/files/resources/8392b7d74209bb3dc54ff1b09635e733_1729022706/ASCQR_OAS_CAHPS_BY_ASC.csv</td><td>2025-01-10T04:30:46.000+0000</td><td>2024-10-10</td></tr><tr><td>hvbp_clinical_outcomes.csv</td><td>https://data.cms.gov/provider-data/sites/default/files/resources/f5c74a8e8a0f2017f6e13b6fc517ae4e_1720656705/hvbp_clinical_outcomes.csv</td><td>2025-01-10T04:32:42.000+0000</td><td>2024-01-08</td></tr><tr><td>CMS_PSI_6_decimal_file.csv</td><td>https://data.cms.gov/provider-data/sites/default/files/resources/84bd78c1b4e386185bcef2af963d8cf9_1729022712/CMS_PSI_6_decimal_file.csv</td><td>2025-01-10T04:31:10.000+0000</td><td>2024-10-10</td></tr><tr><td>Health_Equity_Hospital.csv</td><td>https://data.cms.gov/provider-data/sites/default/files/resources/442a41742993e74960ba3f67d875fa4f_1729022768/Health_Equity_Hospital.csv</td><td>2025-01-10T04:34:37.000+0000</td><td>2024-10-10</td></tr><tr><td>Health_Equity_National.csv</td><td>https://data.cms.gov/provider-data/sites/default/files/resources/506d2b499bfb5b0aebc4f8de409f4024_1729022768/Health_Equity_National.csv</td><td>2025-01-10T04:34:45.000+0000</td><td>2024-10-10</td></tr><tr><td>ASCQR_OAS_CAHPS_STATE.csv</td><td>https://data.cms.gov/provider-data/sites/default/files/resources/f086b4b7fc9d628f08e70ade47dff3c5_1729022711/ASCQR_OAS_CAHPS_STATE.csv</td><td>2025-01-10T04:30:46.000+0000</td><td>2024-10-10</td></tr><tr><td>Maternal_Health-State.csv</td><td>https://data.cms.gov/provider-data/sites/default/files/resources/95a24d7554864accbd8dc777d39ae334_1729022765/Maternal_Health-State.csv</td><td>2025-01-10T04:34:26.000+0000</td><td>2024-10-10</td></tr><tr><td>OQR_OAS_CAHPS_STATE.csv</td><td>https://data.cms.gov/provider-data/sites/default/files/resources/5c995348b26c08179f1149d3b07dcb70_1729022727/OQR_OAS_CAHPS_STATE.csv</td><td>2025-01-10T04:32:09.000+0000</td><td>2024-10-10</td></tr><tr><td>OAS_CAHPS_Footnotes.csv</td><td>https://data.cms.gov/provider-data/sites/default/files/resources/92e8b13e8f8b1a7d35957d49543be589_1729022716/OAS_CAHPS_Footnotes.csv</td><td>2025-01-10T04:31:20.000+0000</td><td>2024-10-10</td></tr><tr><td>PCH_HCAHPS_NATIONAL.csv</td><td>https://data.cms.gov/provider-data/sites/default/files/resources/51dabafd670b6379256fc111bcbec8b4_1729022734/PCH_HCAHPS_NATIONAL.csv</td><td>2025-01-10T04:32:26.000+0000</td><td>2024-10-10</td></tr><tr><td>PCH_HCAHPS_HOSPITAL.csv</td><td>https://data.cms.gov/provider-data/sites/default/files/resources/155aff6db1e04cbbe1676ce459d71053_1729022733/PCH_HCAHPS_HOSPITAL.csv</td><td>2025-01-10T04:32:26.000+0000</td><td>2024-10-10</td></tr><tr><td>Health_Equity_State.csv</td><td>https://data.cms.gov/provider-data/sites/default/files/resources/a0ee7b7dd1360c2f110c01ddb2eada34_1729022768/Health_Equity_State.csv</td><td>2025-01-10T04:34:34.000+0000</td><td>2024-10-10</td></tr><tr><td>Footnote_Crosswalk.csv</td><td>https://data.cms.gov/provider-data/sites/default/files/resources/f29bb7c812e242f6edfef0a4b7d0eaca_1720656687/Footnote_Crosswalk.csv</td><td>2025-01-10T04:31:04.000+0000</td><td>2022-10-04</td></tr><tr><td>PCH_HCAHPS_STATE.csv</td><td>https://data.cms.gov/provider-data/sites/default/files/resources/f1d65b1e3b562b932fd3827c7783ea35_1729022735/PCH_HCAHPS_STATE.csv</td><td>2025-01-10T04:32:34.000+0000</td><td>2024-10-10</td></tr><tr><td>Payment-National.csv</td><td>https://data.cms.gov/provider-data/sites/default/files/resources/38bcaf4b07c80b53859f2733ef74a71e_1729022751/Payment-National.csv</td><td>2025-01-10T04:33:25.000+0000</td><td>2024-10-10</td></tr><tr><td>HCAHPS-National.csv</td><td>https://data.cms.gov/provider-data/sites/default/files/resources/08eefc5ab7c6cce7b3555fd79b0d8eec_1729296308/HCAHPS-National.csv</td><td>2025-01-10T04:31:41.000+0000</td><td>2024-10-18</td></tr><tr><td>HCAHPS-Hospital.csv</td><td>https://data.cms.gov/provider-data/sites/default/files/resources/78a50346fbe828ea0ce2837847af6a7c_1729296307/HCAHPS-Hospital.csv</td><td>2025-01-10T04:31:52.000+0000</td><td>2024-10-18</td></tr><tr><td>Payment-State.csv</td><td>https://data.cms.gov/provider-data/sites/default/files/resources/85c72b7f141f6373088dc6c530d662f4_1729022752/Payment-State.csv</td><td>2025-01-10T04:34:17.000+0000</td><td>2024-10-10</td></tr><tr><td>Measure_Dates.csv</td><td>https://data.cms.gov/provider-data/sites/default/files/resources/633113381312e1fa86c8e0ba8b14ed0f_1729022744/Measure_Dates.csv</td><td>2025-01-10T04:32:59.000+0000</td><td>2024-10-10</td></tr><tr><td>ASC_Facility.csv</td><td>https://data.cms.gov/provider-data/sites/default/files/resources/dd03994fc93e296bb0297f1cd43cc987_1729022707/ASC_Facility.csv</td><td>2025-01-10T04:30:46.000+0000</td><td>2024-10-10</td></tr><tr><td>HCAHPS-State.csv</td><td>https://data.cms.gov/provider-data/sites/default/files/resources/e4ca53701c73500a3188874f2bbd2854_1729296309/HCAHPS-State.csv</td><td>2025-01-10T04:31:42.000+0000</td><td>2024-10-18</td></tr><tr><td>ASC_National.csv</td><td>https://data.cms.gov/provider-data/sites/default/files/resources/43dcc3212bfab34ac186ac2e19196b09_1729022708/ASC_National.csv</td><td>2025-01-10T04:30:46.000+0000</td><td>2024-10-10</td></tr><tr><td>hvbp_safety.csv</td><td>https://data.cms.gov/provider-data/sites/default/files/resources/33e26123c259ca779642b0d61b2e82f5_1720656707/hvbp_safety.csv</td><td>2025-01-10T04:32:42.000+0000</td><td>2024-01-08</td></tr><tr><td>ASC_State.csv</td><td>https://data.cms.gov/provider-data/sites/default/files/resources/d3aea2dfaeae85c44017441b184aeb6d_1729022710/ASC_State.csv</td><td>2025-01-10T04:30:46.000+0000</td><td>2024-10-10</td></tr><tr><td>hvbp_tps.csv</td><td>https://data.cms.gov/provider-data/sites/default/files/resources/5551d4839c1dd75e3f7fe1310a1e2369_1720656708/hvbp_tps.csv</td><td>2025-01-10T04:32:50.000+0000</td><td>2024-01-08</td></tr><tr><td>VA_IPF.csv</td><td>https://data.cms.gov/provider-data/sites/default/files/resources/0742f326b7a19b57bc01136b2cd8b7b6_1729022759/VA_IPF.csv</td><td>2025-01-10T04:33:57.000+0000</td><td>2024-10-10</td></tr><tr><td>VA_TE.csv</td><td>https://data.cms.gov/provider-data/sites/default/files/resources/07084088a9de9e44c51bef291a4e163a_1729022760/VA_TE.csv</td><td>2025-01-10T04:33:56.000+0000</td><td>2024-10-10</td></tr></tbody></table></div>"
      ]
     },
     "metadata": {
      "application/vnd.databricks.v1+output": {
       "addedWidgets": {},
       "aggData": [],
       "aggError": "",
       "aggOverflow": false,
       "aggSchema": [],
       "aggSeriesLimitReached": false,
       "aggType": "",
       "arguments": {},
       "columnCustomDisplayInfos": {},
       "data": [
        [
         "FY2021_Distribution_of_Net_Change_in_Base_Op_DRG_Payment_Amt.csv",
         "https://data.cms.gov/provider-data/sites/default/files/resources/1896b4292d6cbc089d0b0bb6d8e6ebe7_1720656688/FY2021_Distribution_of_Net_Change_in_Base_Op_DRG_Payment_Amt.csv",
         "2025-01-10T04:31:20.000+0000",
         "2023-01-06"
        ],
        [
         "FY_2024_Hospital_Readmissions_Reduction_Program_Hospital.csv",
         "https://data.cms.gov/provider-data/sites/default/files/resources/bfd0c8c38e221fa2045de81691a6e300_1720656704/FY_2024_Hospital_Readmissions_Reduction_Program_Hospital.csv",
         "2025-01-10T04:32:42.000+0000",
         "2024-01-08"
        ],
        [
         "PCH_Complications_Unplanned_Hospital_Visits_HOSPITAL.csv",
         "https://data.cms.gov/provider-data/sites/default/files/resources/bc386a698d7a9b8d09bf37a73371a899_1729022729/PCH_Complications_Unplanned_Hospital_Visits_HOSPITAL.csv",
         "2025-01-10T04:32:09.000+0000",
         "2024-10-10"
        ],
        [
         "PCH_Complications_Unplanned_Hospital_Visits_NATIONAL.csv",
         "https://data.cms.gov/provider-data/sites/default/files/resources/6a91b2a437ea47e61cd34c975dd54729_1729022730/PCH_Complications_Unplanned_Hospital_Visits_NATIONAL.csv",
         "2025-01-10T04:32:18.000+0000",
         "2024-10-10"
        ],
        [
         "CJR_Quality_Reporting_January_2024_Production_File.csv",
         "https://data.cms.gov/provider-data/sites/default/files/resources/739d54d012ec9a7113d06d2f1d29e9c2_1720656684/CJR_Quality_Reporting_January_2024_Production_File.csv",
         "2025-01-10T04:31:04.000+0000",
         "2024-01-08"
        ],
        [
         "Veterans_Health_Administration_Provider_Level_Data.csv",
         "https://data.cms.gov/provider-data/sites/default/files/resources/9cea8696850b78e02559183bd6071fd6_1729022762/Veterans_Health_Administration_Provider_Level_Data.csv",
         "2025-01-10T04:34:05.000+0000",
         "2024-10-10"
        ],
        [
         "Medicare_Hospital_Spending_Per_Patient-National.csv",
         "https://data.cms.gov/provider-data/sites/default/files/resources/ff15a8451b83ebc70b85a5c0e870a751_1729022747/Medicare_Hospital_Spending_Per_Patient-National.csv",
         "2025-01-10T04:33:18.000+0000",
         "2024-10-10"
        ],
        [
         "Medicare_Hospital_Spending_Per_Patient-Hospital.csv",
         "https://data.cms.gov/provider-data/sites/default/files/resources/69874ce604586980ac088283c1b35095_1729022746/Medicare_Hospital_Spending_Per_Patient-Hospital.csv",
         "2025-01-10T04:33:08.000+0000",
         "2024-10-10"
        ],
        [
         "PCH_HEALTHCARE_ASSOCIATED_INFECTIONS_HOSPITAL.csv",
         "https://data.cms.gov/provider-data/sites/default/files/resources/d24fd9fa17ad5673de9cf6220c1c7a5a_1729022732/PCH_HEALTHCARE_ASSOCIATED_INFECTIONS_HOSPITAL.csv",
         "2025-01-10T04:32:26.000+0000",
         "2024-10-10"
        ],
        [
         "Medicare_Hospital_Spending_Per_Patient-State.csv",
         "https://data.cms.gov/provider-data/sites/default/files/resources/b53c8e7d24557eb1e898557e4c7d7484_1729022747/Medicare_Hospital_Spending_Per_Patient-State.csv",
         "2025-01-10T04:33:18.000+0000",
         "2024-10-10"
        ],
        [
         "FY2021_Net_Change_in_Base_Op_DRG_Payment_Amt.csv",
         "https://data.cms.gov/provider-data/sites/default/files/resources/794aef5e642b10af5e5b0502025c1ce0_1720656688/FY2021_Net_Change_in_Base_Op_DRG_Payment_Amt.csv",
         "2025-01-10T04:31:20.000+0000",
         "2023-01-06"
        ],
        [
         "FY2021_Value_Based_Incentive_Payment_Amount.csv",
         "https://data.cms.gov/provider-data/sites/default/files/resources/cec1d2baf2535cf914795f3fdcbbcb0a_1720656689/FY2021_Value_Based_Incentive_Payment_Amount.csv",
         "2025-01-10T04:31:31.000+0000",
         "2023-01-06"
        ],
        [
         "FY2021_Percent_Change_in_Medicare_Payments.csv",
         "https://data.cms.gov/provider-data/sites/default/files/resources/4f65e943e47afa24ea45a22b4163bfa9_1720656689/FY2021_Percent_Change_in_Medicare_Payments.csv",
         "2025-01-10T04:31:31.000+0000",
         "2023-01-06"
        ],
        [
         "Healthcare_Associated_Infections-National.csv",
         "https://data.cms.gov/provider-data/sites/default/files/resources/a87585b27c50c3899eec6a857958a5f0_1729022724/Healthcare_Associated_Infections-National.csv",
         "2025-01-10T04:31:49.000+0000",
         "2024-10-10"
        ],
        [
         "Healthcare_Associated_Infections-Hospital.csv",
         "https://data.cms.gov/provider-data/sites/default/files/resources/43825e12dc0c923df9ba5cbdf473c9d5_1729022723/Healthcare_Associated_Infections-Hospital.csv",
         "2025-01-10T04:31:54.000+0000",
         "2024-10-10"
        ],
        [
         "Outpatient_Imaging_Efficiency-National.csv",
         "https://data.cms.gov/provider-data/sites/default/files/resources/78172a595e76dc064ea87884c5aea1f8_1729022749/Outpatient_Imaging_Efficiency-National.csv",
         "2025-01-10T04:33:18.000+0000",
         "2024-10-10"
        ],
        [
         "Healthcare_Associated_Infections-State.csv",
         "https://data.cms.gov/provider-data/sites/default/files/resources/27986ce2f1193d3fcad7fa1bddc93c3b_1729022724/Healthcare_Associated_Infections-State.csv",
         "2025-01-10T04:31:49.000+0000",
         "2024-10-10"
        ],
        [
         "Outpatient_Imaging_Efficiency-Hospital.csv",
         "https://data.cms.gov/provider-data/sites/default/files/resources/d0134a9a89e59d49426cf5a2ad063b60_1729022748/Outpatient_Imaging_Efficiency-Hospital.csv",
         "2025-01-10T04:33:18.000+0000",
         "2024-10-10"
        ],
        [
         "FY_2024_HAC_Reduction_Program_Hospital.csv",
         "https://data.cms.gov/provider-data/sites/default/files/resources/89d95e2d63816c3d32291ce22b607844_1720656699/FY_2024_HAC_Reduction_Program_Hospital.csv",
         "2025-01-10T04:32:18.000+0000",
         "2024-01-08"
        ],
        [
         "hvbp_person_and_community_engagement.csv",
         "https://data.cms.gov/provider-data/sites/default/files/resources/ccc6534894a9bfe22b5f986260ed359e_1720656706/hvbp_person_and_community_engagement.csv",
         "2025-01-10T04:32:43.000+0000",
         "2024-01-08"
        ],
        [
         "Medicare_Hospital_Spending_by_Claim.csv",
         "https://data.cms.gov/provider-data/sites/default/files/resources/1f8cde9e222d5d49f88a894bcf7a8981_1720656712/Medicare_Hospital_Spending_by_Claim.csv",
         "2025-01-10T04:33:10.000+0000",
         "2024-01-08"
        ],
        [
         "Outpatient_Imaging_Efficiency-State.csv",
         "https://data.cms.gov/provider-data/sites/default/files/resources/6fb7a772c39e34e630e7e97ec4887263_1729022750/Outpatient_Imaging_Efficiency-State.csv",
         "2025-01-10T04:33:25.000+0000",
         "2024-10-10"
        ],
        [
         "HOSPITAL_QUARTERLY_MSPB_6_DECIMALS.csv",
         "https://data.cms.gov/provider-data/sites/default/files/resources/500f70bcb6c65433c00a96af0e0c0430_1720656700/HOSPITAL_QUARTERLY_MSPB_6_DECIMALS.csv",
         "2025-01-10T04:32:26.000+0000",
         "2024-01-08"
        ],
        [
         "Timely_and_Effective_Care-National.csv",
         "https://data.cms.gov/provider-data/sites/default/files/resources/b298b4a8c05addc75d1e9c9c9b2e4706_1729022754/Timely_and_Effective_Care-National.csv",
         "2025-01-10T04:33:36.000+0000",
         "2024-10-10"
        ],
        [
         "Unplanned_Hospital_Visits-National.csv",
         "https://data.cms.gov/provider-data/sites/default/files/resources/d30b0557f1d06bee1d5646d2eaede709_1729022757/Unplanned_Hospital_Visits-National.csv",
         "2025-01-10T04:33:48.000+0000",
         "2024-10-10"
        ],
        [
         "Payment_and_Value_of_Care-Hospital.csv",
         "https://data.cms.gov/provider-data/sites/default/files/resources/f7574fccebccbbf1155650f97bbcc952_1729022753/Payment_and_Value_of_Care-Hospital.csv",
         "2025-01-10T04:33:37.000+0000",
         "2024-10-10"
        ],
        [
         "PATIENT_REPORTED_OUTCOMES_FACILITY.csv",
         "https://data.cms.gov/provider-data/sites/default/files/resources/60ee1962356ca17e50e12f95d2871b46_1729022766/PATIENT_REPORTED_OUTCOMES_FACILITY.csv",
         "2025-01-10T04:34:26.000+0000",
         "2024-10-10"
        ],
        [
         "hvbp_efficiency_and_cost_reduction.csv",
         "https://data.cms.gov/provider-data/sites/default/files/resources/46325dbbe6d2f654ecbb5046059c664e_1720656706/hvbp_efficiency_and_cost_reduction.csv",
         "2025-01-10T04:32:42.000+0000",
         "2024-01-08"
        ],
        [
         "Timely_and_Effective_Care-Hospital.csv",
         "https://data.cms.gov/provider-data/sites/default/files/resources/0437b5494ac61507ad90f2af6b8085a7_1729022754/Timely_and_Effective_Care-Hospital.csv",
         "2025-01-10T04:33:40.000+0000",
         "2024-10-10"
        ],
        [
         "Unplanned_Hospital_Visits-Hospital.csv",
         "https://data.cms.gov/provider-data/sites/default/files/resources/30edc1d0417a34b58affcc2495a02b0a_1729022756/Unplanned_Hospital_Visits-Hospital.csv",
         "2025-01-10T04:33:51.000+0000",
         "2024-10-10"
        ],
        [
         "Complications_and_Deaths-National.csv",
         "https://data.cms.gov/provider-data/sites/default/files/resources/aba37eca11edcd4272afff9e6dc78bda_1729022714/Complications_and_Deaths-National.csv",
         "2025-01-10T04:31:04.000+0000",
         "2024-10-10"
        ],
        [
         "Complications_and_Deaths-Hospital.csv",
         "https://data.cms.gov/provider-data/sites/default/files/resources/6af7c44d77436e5a1caac3ce39a83fe9_1729022713/Complications_and_Deaths-Hospital.csv",
         "2025-01-10T04:31:12.000+0000",
         "2024-10-10"
        ],
        [
         "Timely_and_Effective_Care-State.csv",
         "https://data.cms.gov/provider-data/sites/default/files/resources/c4f74a440cc6ce4ed941fa3c9de2ab58_1729022755/Timely_and_Effective_Care-State.csv",
         "2025-01-10T04:33:48.000+0000",
         "2024-10-10"
        ],
        [
         "Unplanned_Hospital_Visits-State.csv",
         "https://data.cms.gov/provider-data/sites/default/files/resources/73ce05bc6ecbb5def0e859818a906f7b_1729022759/Unplanned_Hospital_Visits-State.csv",
         "2025-01-10T04:33:57.000+0000",
         "2024-10-10"
        ],
        [
         "IPFQR_QualityMeasures_Facility.csv",
         "https://data.cms.gov/provider-data/sites/default/files/resources/e56cdbea2d002358610ebdb957cb35de_1729022742/IPFQR_QualityMeasures_Facility.csv",
         "2025-01-10T04:32:59.000+0000",
         "2024-10-10"
        ],
        [
         "IPFQR_QualityMeasures_National.csv",
         "https://data.cms.gov/provider-data/sites/default/files/resources/463e16600bec8c0aeb75ebfaef253ab7_1729022743/IPFQR_QualityMeasures_National.csv",
         "2025-01-10T04:32:59.000+0000",
         "2024-10-10"
        ],
        [
         "Complications_and_Deaths-State.csv",
         "https://data.cms.gov/provider-data/sites/default/files/resources/247bb4364e310313773d74ccb0fb3231_1729022715/Complications_and_Deaths-State.csv",
         "2025-01-10T04:31:04.000+0000",
         "2024-10-10"
        ],
        [
         "Hospital_General_Information.csv",
         "https://data.cms.gov/provider-data/sites/default/files/resources/893c372430d9d71a1c52737d01239d47_1729022728/Hospital_General_Information.csv",
         "2025-01-10T04:32:10.000+0000",
         "2024-10-10"
        ],
        [
         "PCH_Palliative_Care_HOSPITAL.csv",
         "https://data.cms.gov/provider-data/sites/default/files/resources/2d420234bc6bcc963c6c374d91b0ed90_1729022767/PCH_Palliative_Care_HOSPITAL.csv",
         "2025-01-10T04:34:26.000+0000",
         "2024-10-10"
        ],
        [
         "PCH_Palliative_Care_NATIONAL.csv",
         "https://data.cms.gov/provider-data/sites/default/files/resources/b19666c7d9f040b0fffd9c7135a7d92d_1729022768/PCH_Palliative_Care_NATIONAL.csv",
         "2025-01-10T04:34:34.000+0000",
         "2024-10-10"
        ],
        [
         "IPFQR_QualityMeasures_State.csv",
         "https://data.cms.gov/provider-data/sites/default/files/resources/aaf5b6168e889e217580d86b5c443c6d_1729022744/IPFQR_QualityMeasures_State.csv",
         "2025-01-10T04:32:59.000+0000",
         "2024-10-10"
        ],
        [
         "OQR_OAS_CAHPS_BY_HOSPITAL.csv",
         "https://data.cms.gov/provider-data/sites/default/files/resources/9189f27bb8ab7a4ff8919bdc682bf79a_1729022725/OQR_OAS_CAHPS_BY_HOSPITAL.csv",
         "2025-01-10T04:31:59.000+0000",
         "2024-10-10"
        ],
        [
         "Data_Updates_October_2024.csv",
         "https://data.cms.gov/provider-data/sites/default/files/resources/c9442d9ab6d7d2b50976790e9689e958_1729022763/Data_Updates_October_2024.csv",
         "2025-01-10T04:34:05.000+0000",
         "2024-09-23"
        ],
        [
         "ASCQR_OAS_CAHPS_NATIONAL.csv",
         "https://data.cms.gov/provider-data/sites/default/files/resources/65a38069cc48376e9f519a3609424537_1729022709/ASCQR_OAS_CAHPS_NATIONAL.csv",
         "2025-01-10T04:30:46.000+0000",
         "2024-10-10"
        ],
        [
         "Maternal_Health-National.csv",
         "https://data.cms.gov/provider-data/sites/default/files/resources/96584b566c4af50acd2e377c193d870a_1729022764/Maternal_Health-National.csv",
         "2025-01-10T04:34:17.000+0000",
         "2024-10-10"
        ],
        [
         "Maternal_Health-Hospital.csv",
         "https://data.cms.gov/provider-data/sites/default/files/resources/5a4754b088fdb10d2ae278ef215925a7_1729022763/Maternal_Health-Hospital.csv",
         "2025-01-10T04:34:19.000+0000",
         "2024-10-10"
        ],
        [
         "OQR_OAS_CAHPS_NATIONAL.csv",
         "https://data.cms.gov/provider-data/sites/default/files/resources/fdc286f2f60134775fa4b7f7b249b075_1729022726/OQR_OAS_CAHPS_NATIONAL.csv",
         "2025-01-10T04:31:59.000+0000",
         "2024-10-10"
        ],
        [
         "Value_of_Care-National.csv",
         "https://data.cms.gov/provider-data/sites/default/files/resources/d59debd89c80b2ecf3c24d40c4bb0869_1729022761/Value_of_Care-National.csv",
         "2025-01-10T04:34:05.000+0000",
         "2024-10-10"
        ],
        [
         "ASCQR_OAS_CAHPS_BY_ASC.csv",
         "https://data.cms.gov/provider-data/sites/default/files/resources/8392b7d74209bb3dc54ff1b09635e733_1729022706/ASCQR_OAS_CAHPS_BY_ASC.csv",
         "2025-01-10T04:30:46.000+0000",
         "2024-10-10"
        ],
        [
         "hvbp_clinical_outcomes.csv",
         "https://data.cms.gov/provider-data/sites/default/files/resources/f5c74a8e8a0f2017f6e13b6fc517ae4e_1720656705/hvbp_clinical_outcomes.csv",
         "2025-01-10T04:32:42.000+0000",
         "2024-01-08"
        ],
        [
         "CMS_PSI_6_decimal_file.csv",
         "https://data.cms.gov/provider-data/sites/default/files/resources/84bd78c1b4e386185bcef2af963d8cf9_1729022712/CMS_PSI_6_decimal_file.csv",
         "2025-01-10T04:31:10.000+0000",
         "2024-10-10"
        ],
        [
         "Health_Equity_Hospital.csv",
         "https://data.cms.gov/provider-data/sites/default/files/resources/442a41742993e74960ba3f67d875fa4f_1729022768/Health_Equity_Hospital.csv",
         "2025-01-10T04:34:37.000+0000",
         "2024-10-10"
        ],
        [
         "Health_Equity_National.csv",
         "https://data.cms.gov/provider-data/sites/default/files/resources/506d2b499bfb5b0aebc4f8de409f4024_1729022768/Health_Equity_National.csv",
         "2025-01-10T04:34:45.000+0000",
         "2024-10-10"
        ],
        [
         "ASCQR_OAS_CAHPS_STATE.csv",
         "https://data.cms.gov/provider-data/sites/default/files/resources/f086b4b7fc9d628f08e70ade47dff3c5_1729022711/ASCQR_OAS_CAHPS_STATE.csv",
         "2025-01-10T04:30:46.000+0000",
         "2024-10-10"
        ],
        [
         "Maternal_Health-State.csv",
         "https://data.cms.gov/provider-data/sites/default/files/resources/95a24d7554864accbd8dc777d39ae334_1729022765/Maternal_Health-State.csv",
         "2025-01-10T04:34:26.000+0000",
         "2024-10-10"
        ],
        [
         "OQR_OAS_CAHPS_STATE.csv",
         "https://data.cms.gov/provider-data/sites/default/files/resources/5c995348b26c08179f1149d3b07dcb70_1729022727/OQR_OAS_CAHPS_STATE.csv",
         "2025-01-10T04:32:09.000+0000",
         "2024-10-10"
        ],
        [
         "OAS_CAHPS_Footnotes.csv",
         "https://data.cms.gov/provider-data/sites/default/files/resources/92e8b13e8f8b1a7d35957d49543be589_1729022716/OAS_CAHPS_Footnotes.csv",
         "2025-01-10T04:31:20.000+0000",
         "2024-10-10"
        ],
        [
         "PCH_HCAHPS_NATIONAL.csv",
         "https://data.cms.gov/provider-data/sites/default/files/resources/51dabafd670b6379256fc111bcbec8b4_1729022734/PCH_HCAHPS_NATIONAL.csv",
         "2025-01-10T04:32:26.000+0000",
         "2024-10-10"
        ],
        [
         "PCH_HCAHPS_HOSPITAL.csv",
         "https://data.cms.gov/provider-data/sites/default/files/resources/155aff6db1e04cbbe1676ce459d71053_1729022733/PCH_HCAHPS_HOSPITAL.csv",
         "2025-01-10T04:32:26.000+0000",
         "2024-10-10"
        ],
        [
         "Health_Equity_State.csv",
         "https://data.cms.gov/provider-data/sites/default/files/resources/a0ee7b7dd1360c2f110c01ddb2eada34_1729022768/Health_Equity_State.csv",
         "2025-01-10T04:34:34.000+0000",
         "2024-10-10"
        ],
        [
         "Footnote_Crosswalk.csv",
         "https://data.cms.gov/provider-data/sites/default/files/resources/f29bb7c812e242f6edfef0a4b7d0eaca_1720656687/Footnote_Crosswalk.csv",
         "2025-01-10T04:31:04.000+0000",
         "2022-10-04"
        ],
        [
         "PCH_HCAHPS_STATE.csv",
         "https://data.cms.gov/provider-data/sites/default/files/resources/f1d65b1e3b562b932fd3827c7783ea35_1729022735/PCH_HCAHPS_STATE.csv",
         "2025-01-10T04:32:34.000+0000",
         "2024-10-10"
        ],
        [
         "Payment-National.csv",
         "https://data.cms.gov/provider-data/sites/default/files/resources/38bcaf4b07c80b53859f2733ef74a71e_1729022751/Payment-National.csv",
         "2025-01-10T04:33:25.000+0000",
         "2024-10-10"
        ],
        [
         "HCAHPS-National.csv",
         "https://data.cms.gov/provider-data/sites/default/files/resources/08eefc5ab7c6cce7b3555fd79b0d8eec_1729296308/HCAHPS-National.csv",
         "2025-01-10T04:31:41.000+0000",
         "2024-10-18"
        ],
        [
         "HCAHPS-Hospital.csv",
         "https://data.cms.gov/provider-data/sites/default/files/resources/78a50346fbe828ea0ce2837847af6a7c_1729296307/HCAHPS-Hospital.csv",
         "2025-01-10T04:31:52.000+0000",
         "2024-10-18"
        ],
        [
         "Payment-State.csv",
         "https://data.cms.gov/provider-data/sites/default/files/resources/85c72b7f141f6373088dc6c530d662f4_1729022752/Payment-State.csv",
         "2025-01-10T04:34:17.000+0000",
         "2024-10-10"
        ],
        [
         "Measure_Dates.csv",
         "https://data.cms.gov/provider-data/sites/default/files/resources/633113381312e1fa86c8e0ba8b14ed0f_1729022744/Measure_Dates.csv",
         "2025-01-10T04:32:59.000+0000",
         "2024-10-10"
        ],
        [
         "ASC_Facility.csv",
         "https://data.cms.gov/provider-data/sites/default/files/resources/dd03994fc93e296bb0297f1cd43cc987_1729022707/ASC_Facility.csv",
         "2025-01-10T04:30:46.000+0000",
         "2024-10-10"
        ],
        [
         "HCAHPS-State.csv",
         "https://data.cms.gov/provider-data/sites/default/files/resources/e4ca53701c73500a3188874f2bbd2854_1729296309/HCAHPS-State.csv",
         "2025-01-10T04:31:42.000+0000",
         "2024-10-18"
        ],
        [
         "ASC_National.csv",
         "https://data.cms.gov/provider-data/sites/default/files/resources/43dcc3212bfab34ac186ac2e19196b09_1729022708/ASC_National.csv",
         "2025-01-10T04:30:46.000+0000",
         "2024-10-10"
        ],
        [
         "hvbp_safety.csv",
         "https://data.cms.gov/provider-data/sites/default/files/resources/33e26123c259ca779642b0d61b2e82f5_1720656707/hvbp_safety.csv",
         "2025-01-10T04:32:42.000+0000",
         "2024-01-08"
        ],
        [
         "ASC_State.csv",
         "https://data.cms.gov/provider-data/sites/default/files/resources/d3aea2dfaeae85c44017441b184aeb6d_1729022710/ASC_State.csv",
         "2025-01-10T04:30:46.000+0000",
         "2024-10-10"
        ],
        [
         "hvbp_tps.csv",
         "https://data.cms.gov/provider-data/sites/default/files/resources/5551d4839c1dd75e3f7fe1310a1e2369_1720656708/hvbp_tps.csv",
         "2025-01-10T04:32:50.000+0000",
         "2024-01-08"
        ],
        [
         "VA_IPF.csv",
         "https://data.cms.gov/provider-data/sites/default/files/resources/0742f326b7a19b57bc01136b2cd8b7b6_1729022759/VA_IPF.csv",
         "2025-01-10T04:33:57.000+0000",
         "2024-10-10"
        ],
        [
         "VA_TE.csv",
         "https://data.cms.gov/provider-data/sites/default/files/resources/07084088a9de9e44c51bef291a4e163a_1729022760/VA_TE.csv",
         "2025-01-10T04:33:56.000+0000",
         "2024-10-10"
        ]
       ],
       "datasetInfos": [],
       "dbfsResultPath": null,
       "isJsonSchema": true,
       "metadata": {},
       "overflow": false,
       "plotOptions": {
        "customPlotOptions": {},
        "displayType": "table",
        "pivotAggregation": null,
        "pivotColumns": null,
        "xColumns": null,
        "yColumns": null
       },
       "removedWidgets": [],
       "schema": [
        {
         "metadata": "{}",
         "name": "file_name",
         "type": "\"string\""
        },
        {
         "metadata": "{}",
         "name": "url",
         "type": "\"string\""
        },
        {
         "metadata": "{}",
         "name": "download_timestamp",
         "type": "\"timestamp\""
        },
        {
         "metadata": "{}",
         "name": "Modified_date",
         "type": "\"date\""
        }
       ],
       "type": "table"
      }
     },
     "output_type": "display_data"
    }
   ],
   "source": [
    "%sql\n",
    "select * from job_log\n",
    "--truncate table job_log"
   ]
  },
  {
   "cell_type": "code",
   "execution_count": 0,
   "metadata": {
    "application/vnd.databricks.v1+cell": {
     "cellMetadata": {
      "byteLimit": 2048000,
      "rowLimit": 10000
     },
     "inputWidgets": {},
     "nuid": "c65d29b8-59c5-4519-ba94-04bf7efd0f18",
     "showTitle": true,
     "tableResultSettingsMap": {},
     "title": "CSV files downloaded"
    }
   },
   "outputs": [
    {
     "output_type": "stream",
     "name": "stdout",
     "output_type": "stream",
     "text": [
      "/databricks/driver\nASCQR_OAS_CAHPS_BY_ASC.csv\nASCQR_OAS_CAHPS_NATIONAL.csv\nASCQR_OAS_CAHPS_STATE.csv\nASC_Facility.csv\nASC_National.csv\nASC_State.csv\nCJR_Quality_Reporting_January_2024_Production_File.csv\nCMS_PSI_6_decimal_file.csv\nComplications_and_Deaths-Hospital.csv\nComplications_and_Deaths-National.csv\nComplications_and_Deaths-State.csv\nData_Updates_October_2024.csv\nFY2021_Distribution_of_Net_Change_in_Base_Op_DRG_Payment_Amt.csv\nFY2021_Net_Change_in_Base_Op_DRG_Payment_Amt.csv\nFY2021_Percent_Change_in_Medicare_Payments.csv\nFY2021_Value_Based_Incentive_Payment_Amount.csv\nFY_2024_HAC_Reduction_Program_Hospital.csv\nFY_2024_Hospital_Readmissions_Reduction_Program_Hospital.csv\nFootnote_Crosswalk.csv\nHCAHPS-Hospital.csv\nHCAHPS-National.csv\nHCAHPS-State.csv\nHOSPITAL_QUARTERLY_MSPB_6_DECIMALS.csv\nHealth_Equity_Hospital.csv\nHealth_Equity_National.csv\nHealth_Equity_State.csv\nHealthcare_Associated_Infections-Hospital.csv\nHealthcare_Associated_Infections-National.csv\nHealthcare_Associated_Infections-State.csv\nHospital_General_Information.csv\nIPFQR_QualityMeasures_Facility.csv\nIPFQR_QualityMeasures_National.csv\nIPFQR_QualityMeasures_State.csv\nMaternal_Health-Hospital.csv\nMaternal_Health-National.csv\nMaternal_Health-State.csv\nMeasure_Dates.csv\nMedicare_Hospital_Spending_Per_Patient-Hospital.csv\nMedicare_Hospital_Spending_Per_Patient-National.csv\nMedicare_Hospital_Spending_Per_Patient-State.csv\nMedicare_Hospital_Spending_by_Claim.csv\nOAS_CAHPS_Footnotes.csv\nOQR_OAS_CAHPS_BY_HOSPITAL.csv\nOQR_OAS_CAHPS_NATIONAL.csv\nOQR_OAS_CAHPS_STATE.csv\nOutpatient_Imaging_Efficiency-Hospital.csv\nOutpatient_Imaging_Efficiency-National.csv\nOutpatient_Imaging_Efficiency-State.csv\nPATIENT_REPORTED_OUTCOMES_FACILITY.csv\nPCH_Complications_Unplanned_Hospital_Visits_HOSPITAL.csv\nPCH_Complications_Unplanned_Hospital_Visits_NATIONAL.csv\nPCH_HCAHPS_HOSPITAL.csv\nPCH_HCAHPS_NATIONAL.csv\nPCH_HCAHPS_STATE.csv\nPCH_HEALTHCARE_ASSOCIATED_INFECTIONS_HOSPITAL.csv\nPCH_Palliative_Care_HOSPITAL.csv\nPCH_Palliative_Care_NATIONAL.csv\nPayment-National.csv\nPayment-State.csv\nPayment_and_Value_of_Care-Hospital.csv\nTimely_and_Effective_Care-Hospital.csv\nTimely_and_Effective_Care-National.csv\nTimely_and_Effective_Care-State.csv\nUnplanned_Hospital_Visits-Hospital.csv\nUnplanned_Hospital_Visits-National.csv\nUnplanned_Hospital_Visits-State.csv\nVA_IPF.csv\nVA_TE.csv\nValue_of_Care-National.csv\nVeterans_Health_Administration_Provider_Level_Data.csv\nhvbp_clinical_outcomes.csv\nhvbp_efficiency_and_cost_reduction.csv\nhvbp_person_and_community_engagement.csv\nhvbp_safety.csv\nhvbp_tps.csv\n"
     ]
    }
   ],
   "source": [
    "%sh\n",
    "\n",
    "pwd\n",
    "cd /databricks/driver/data\n",
    "ls"
   ]
  }
 ],
 "metadata": {
  "application/vnd.databricks.v1+notebook": {
   "computePreferences": null,
   "dashboards": [],
   "environmentMetadata": null,
   "language": "python",
   "notebookMetadata": {
    "mostRecentlyExecutedCommandWithImplicitDF": {
     "commandId": 3846834646409324,
     "dataframes": [
      "_sqldf"
     ]
    },
    "pythonIndentUnit": 2
   },
   "notebookName": "Metadata_driven_CMS_data_load",
   "widgets": {}
  },
  "kernelspec": {
   "display_name": "Python 3 (ipykernel)",
   "language": "python",
   "name": "python3"
  },
  "language_info": {
   "codemirror_mode": {
    "name": "ipython",
    "version": 3
   },
   "file_extension": ".py",
   "mimetype": "text/x-python",
   "name": "python",
   "nbconvert_exporter": "python",
   "pygments_lexer": "ipython3",
   "version": "3.8.10"
  }
 },
 "nbformat": 4,
 "nbformat_minor": 0
}
